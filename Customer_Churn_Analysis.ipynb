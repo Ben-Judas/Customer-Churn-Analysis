{
  "nbformat": 4,
  "nbformat_minor": 0,
  "metadata": {
    "colab": {
      "name": "Customer Churn Analysis.ipynb",
      "provenance": []
    },
    "kernelspec": {
      "name": "python3",
      "display_name": "Python 3"
    },
    "language_info": {
      "name": "python"
    }
  },
  "cells": [
    {
      "cell_type": "markdown",
      "metadata": {
        "id": "Xo8NBcL-Cx1q"
      },
      "source": [
        "Customer Churn Analysis\n",
        "\n",
        "\n",
        "Context\n",
        "\n",
        "The leading telecom company has a massive market share but one big problem: several rivals\n",
        "that are constantly trying to steal customers. Because this company has been the market\n",
        "leader for so many years, there are not significant opportunities to grow with new customers.\n",
        "Instead, company executives have decided to focus on their churn: the rate at which they lose\n",
        "customers.\n",
        "They have two teams especially interested in this data: the marketing team and the customer\n",
        "service team. Each team has its own reason for wanting the analysis. The marketing team\n",
        "wants to find out who the most likely people to churn are and create content that suits their\n",
        "interests. The customer service team would like to proactively reach out to customers who are\n",
        "about to churn, and try to encourage them to stay.\n",
        "They decide to hire you for two tasks:\n",
        "1. Help them identify the types of customers who churn\n",
        "2. Predict who of their current customers will churn next month.\n",
        "To do this, they offer you a file of 7,000 customers. Each row is a customer. The Churn column\n",
        "will say Yes if the customer churned in the past month. The data also offers demographic data\n",
        "and data on the services that each customer purchases. Finally there is information on the\n",
        "payments those customers make.\n",
        "Deliverables - What is expected\n",
        "Week 1\n",
        "A presentation explaining churn for the marketing team - any format. Tell a story to the\n",
        "marketing team to help them understand the customers who churn and what the marketing\n",
        "team can do to prevent it. Highlight the information with helpful visualizations.\n",
        "1. How much is churn affecting the business? How big is churn compared to the existing\n",
        "customer base?\n",
        "2. Explain churn by the below categories. Are there any factors that combine to be\n",
        "especially impactful?\n",
        "a. Customer demographics like age and gender\n",
        "b. Services used\n",
        "c. Billing information\n",
        "3. What services are typically purchased by customers who churned? Are any services\n",
        "especially helpful in retaining customers?\n",
        "4. Bonus! How long will it take for the company to lose all its customers? Which\n",
        "demographics will they lose first?\n",
        "Deadline: Friday, August 27th at 1:00pm\n",
        "Week 2\n",
        "Add to your presentation from Week 1. Create analyses that answer the following questions:\n",
        "1. Are there types of people who churn at higher rates? Come up with 2-3 profiles to give\n",
        "executives an idea of who churns often. Try to look several factors deep for example:\n",
        "people with no internet service and no phone service, or women who are senior citizens\n",
        "See FAQ for details.\n",
        "2. Do you have any recommendations on how to reach groups of people who churn at high\n",
        "rates?\n",
        "3. Create a case study for one of your customer profiles. Show how much additional\n",
        "revenue you could make by increasing sales by 10% in that profile.\n",
        "4. Bonus! Use a clustering algorithm like K-Means to break customers into groups.\n",
        "a. How many groups did you build and how did you decide on that number of\n",
        "groups?\n",
        "b. How does churn vary by group?\n",
        "c. How is this similar or different to your analysis without using Machine Learning?\n",
        "Deadline: Friday, September 3rd at 1:00pm\n",
        "FAQ\n",
        "1. What is a customer profile? It’s a device used to tell a story about customers by\n",
        "providing an example of what a typical customer is. A commonly used visualization for a\n",
        "customer profile is a radar chart, but feel free to create your own."
      ]
    },
    {
      "cell_type": "code",
      "metadata": {
        "id": "qfiO7fSr_Ixz"
      },
      "source": [
        ""
      ],
      "execution_count": null,
      "outputs": []
    }
  ]
}